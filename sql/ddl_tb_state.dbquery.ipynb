{
 "cells": [
  {
   "cell_type": "code",
   "execution_count": 0,
   "metadata": {
    "application/vnd.databricks.v1+cell": {
     "cellMetadata": {},
     "inputWidgets": {},
     "nuid": "fb25aacd-e591-415d-a0e1-7782123de060",
     "showTitle": false,
     "tableResultSettingsMap": {},
     "title": ""
    }
   },
   "outputs": [],
   "source": [
    "USE prod.application;\n",
    "\n",
    "CREATE TABLE IF NOT EXISTS tb_app_state (\n",
    "  state STRING COMMENT 'Estado da aplicação',\n",
    "  updated TIMESTAMP DEFAULT CURRENT_TIMESTAMP() COMMENT 'Data da atualização'\n",
    ")\n",
    "COMMENT 'Tabela de tipo 1 com dados de estado da aplicação'\n",
    "TBLPROPERTIES (delta.enableChangeDataFeed = true, delta.feature.allowColumnDefaults = 'supported');"
   ]
  }
 ],
 "metadata": {
  "application/vnd.databricks.v1+notebook": {
   "computePreferences": null,
   "dashboards": [],
   "environmentMetadata": null,
   "inputWidgetPreferences": null,
   "language": "sql",
   "notebookMetadata": {
    "sqlQueryOptions": {
     "applyAutoLimit": true,
     "catalog": "workspace",
     "schema": "default"
    }
   },
   "notebookName": "ddl_tb_state.dbquery.ipynb",
   "widgets": {}
  },
  "language_info": {
   "name": "sql"
  }
 },
 "nbformat": 4,
 "nbformat_minor": 0
}
